{
 "cells": [
  {
   "cell_type": "markdown",
   "id": "37dd1a93",
   "metadata": {},
   "source": [
    "# Steps\n",
    "\n",
    "\n",
    "## 1. Install CARLA Simulator\n",
    "\n",
    "- Download from CARLA releases\n",
    "- Run on Windows or Linux (Ubuntu recommended)\n",
    "- Check you can launch the CARLA simulator and control a vehicle using the Python API\n",
    "\n",
    "## 2. Connect Logitech G29 Wheel\n",
    "\n",
    "- Install G29 drivers (Windows) or confirm it’s detected (Linux: check with lsusb)\n",
    "- Test the hardware with a simple game or calibration tool\n",
    "\n",
    "## 3. Install ROS2 (Optional for Modular Design)\n",
    "\n",
    "- If you choose to use ROS2: install ROS2 Humble or Iron\n",
    "- Otherwise, stay with plain Python and CARLA API"
   ]
  }
 ],
 "metadata": {
  "language_info": {
   "name": "python"
  }
 },
 "nbformat": 4,
 "nbformat_minor": 5
}
